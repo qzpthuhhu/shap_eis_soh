{
 "cells": [
  {
   "cell_type": "code",
   "execution_count": 14,
   "id": "038f97a3",
   "metadata": {},
   "outputs": [],
   "source": [
    "# 打开原始文本文件和新文本文件\n",
    "#with open(\"EIS_state_V_25C01.txt\", \"r\") as input_file, open(\"EIS_V_25C01.txt\", \"w\") as output_file:\n",
    "with open('EIS_state_V_45C01.txt', 'r') as file:\n",
    "    lines = file.readlines()\n",
    "\n",
    "output_rows = []\n",
    "\n",
    "data_col4 = []  # 存储第四列数据\n",
    "data_col5 = []  # 存储第五列数据\n",
    "\n",
    "for line in lines[1:]:  # 跳过第一行\n",
    "    columns = line.split()\n",
    "    data_col4.extend([float(columns[3])])\n",
    "    data_col5.extend([float(columns[4])])\n",
    "\n",
    "    if len(data_col4) >= 60 and len(data_col5) >= 60:  # 当两列都有足够的数据时\n",
    "        row_data = data_col4[:60] + data_col5[:60]  # 合并数据\n",
    "        output_rows.append(row_data)  # 添加到输出行\n",
    "        data_col4 = data_col4[60:]  # 移除已使用的数据\n",
    "        data_col5 = data_col5[60:]\n",
    "\n",
    "with open('EIS_V_45C01.txt', 'w') as file:\n",
    "    for row in output_rows:\n",
    "        file.write('\\t'.join(map(str, row)) + '\\n')\n",
    "\n"
   ]
  },
  {
   "cell_type": "code",
   "execution_count": null,
   "id": "5ef85392",
   "metadata": {},
   "outputs": [],
   "source": []
  },
  {
   "cell_type": "code",
   "execution_count": null,
   "id": "95b83a90",
   "metadata": {},
   "outputs": [],
   "source": []
  }
 ],
 "metadata": {
  "kernelspec": {
   "display_name": "pytorch-gpu",
   "language": "python",
   "name": "pytorch-gpu"
  },
  "language_info": {
   "codemirror_mode": {
    "name": "ipython",
    "version": 3
   },
   "file_extension": ".py",
   "mimetype": "text/x-python",
   "name": "python",
   "nbconvert_exporter": "python",
   "pygments_lexer": "ipython3",
   "version": "3.7.16"
  }
 },
 "nbformat": 4,
 "nbformat_minor": 5
}
