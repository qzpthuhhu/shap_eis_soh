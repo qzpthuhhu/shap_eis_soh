{
 "cells": [
  {
   "cell_type": "code",
   "execution_count": 3,
   "id": "4abac8c1",
   "metadata": {},
   "outputs": [],
   "source": [
    "file_path = 'EIS_V_45C02-Copy2.txt'  # 原始文件路径\n",
    "new_file_path = 'EIS_V_45C02-Copy2_yichang.txt'  # 新文件路径\n",
    "\n",
    "# 读取文件\n",
    "with open(file_path, 'r') as file:\n",
    "    lines = file.readlines()\n",
    "\n",
    "# 处理数据\n",
    "for i in range(99, 200):  # 第100到200行\n",
    "    columns = lines[i].split()\n",
    "    if len(columns) >= 108:\n",
    "        columns[107] = '10'  # 替换第107列的值\n",
    "    lines[i] = ' '.join(columns) + '\\n'  # 重要：在末尾添加换行符\n",
    "\n",
    "for i in range(99, len(lines)):  # 第100行到最后一行\n",
    "    columns = lines[i].split()\n",
    "    if len(columns) >= 95:\n",
    "        columns[94] = '100'  # 替换第94列的值\n",
    "    lines[i] = ' '.join(columns) + '\\n'  # 重要：在末尾添加换行符\n",
    "\n",
    "# 保存新文件\n",
    "with open(new_file_path, 'w') as new_file:\n",
    "    new_file.writelines(lines)\n"
   ]
  },
  {
   "cell_type": "code",
   "execution_count": 20,
   "id": "a44c5e66",
   "metadata": {},
   "outputs": [],
   "source": [
    "file_path = 'EIS_V_45C02-Copy2.txt'  # 原始文件路径\n",
    "new_file_path = 'EIS_V_45C02-Copy2_yichang.txt'  # 新文件路径\n",
    "\n",
    "# 读取文件\n",
    "with open(file_path, 'r') as file:\n",
    "    lines = file.readlines()\n",
    "\n",
    "# 处理数据\n",
    "for i in range(60, 130):  # 第100到200行\n",
    "    columns = lines[i].split('\\t')  # 使用制表符分隔\n",
    "    if len(columns) >= 108:\n",
    "        columns[92] = '0'  # 替换第107列的值\n",
    "    lines[i] = '\\t'.join(columns)  # 使用制表符重新组合\n",
    "\n",
    "for i in range(230, 280):  # 第100行到最后一行\n",
    "    columns = lines[i].split('\\t')\n",
    "    if len(columns) >= 95:\n",
    "        columns[94] = '0'  # 替换第94列的值\n",
    "    lines[i] = '\\t'.join(columns)\n",
    "\n",
    "# 保存新文件\n",
    "with open(new_file_path, 'w') as new_file:\n",
    "    new_file.writelines(lines)\n"
   ]
  },
  {
   "cell_type": "code",
   "execution_count": null,
   "id": "9a8c5454",
   "metadata": {},
   "outputs": [],
   "source": []
  }
 ],
 "metadata": {
  "kernelspec": {
   "display_name": "pytorch-gpu",
   "language": "python",
   "name": "pytorch-gpu"
  },
  "language_info": {
   "codemirror_mode": {
    "name": "ipython",
    "version": 3
   },
   "file_extension": ".py",
   "mimetype": "text/x-python",
   "name": "python",
   "nbconvert_exporter": "python",
   "pygments_lexer": "ipython3",
   "version": "3.7.16"
  }
 },
 "nbformat": 4,
 "nbformat_minor": 5
}
