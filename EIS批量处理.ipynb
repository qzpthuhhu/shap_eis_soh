{
 "cells": [
  {
   "cell_type": "code",
   "execution_count": 5,
   "id": "6f2562a1",
   "metadata": {},
   "outputs": [
    {
     "name": "stdout",
     "output_type": "stream",
     "text": [
      "C:\\Users\\10193\\SHAP-tutorial\\SOH1\\数据处理\n"
     ]
    }
   ],
   "source": [
    "import os\n",
    "print(os.getcwd())"
   ]
  },
  {
   "cell_type": "code",
   "execution_count": 7,
   "id": "f9e5edc8",
   "metadata": {},
   "outputs": [],
   "source": [
    "#批量处理一个文件夹的txt文本\n",
    "import os\n",
    "\n",
    "def process_file(input_file, output_file):\n",
    "    with open(input_file, 'r') as file:\n",
    "        lines = file.readlines()\n",
    "\n",
    "    output_rows = []\n",
    "    data_col4 = []  # 存储第四列数据\n",
    "    data_col5 = []  # 存储第五列数据\n",
    "\n",
    "    for line in lines[1:]:  # 跳过第一行\n",
    "        columns = line.split()\n",
    "        data_col4.extend([float(columns[3])])\n",
    "        data_col5.extend([float(columns[4])])\n",
    "\n",
    "        if len(data_col4) >= 60 and len(data_col5) >= 60:  # 当两列都有足够的数据时\n",
    "            row_data = data_col4[:60] + data_col5[:60]  # 合并数据\n",
    "            output_rows.append(row_data)  # 添加到输出行\n",
    "            data_col4 = data_col4[60:]  # 移除已使用的数据\n",
    "            data_col5 = data_col5[60:]\n",
    "\n",
    "    with open(output_file, 'w') as file:\n",
    "        for row in output_rows:\n",
    "            file.write('\\t'.join(map(str, row)) + '\\n')\n",
    "\n",
    "folder_path = 'C:/Users/10193/SHAP-tutorial/SOH1/EISstateIX'  # 文件夹路径\n",
    "for filename in os.listdir(folder_path):\n",
    "    if filename.endswith('.txt'):  # 确保处理文本文件\n",
    "        input_file = os.path.join(folder_path, filename)\n",
    "        output_file = os.path.join(folder_path, 'processed_' + filename)\n",
    "        process_file(input_file, output_file)\n"
   ]
  },
  {
   "cell_type": "code",
   "execution_count": 1,
   "id": "038f97a3",
   "metadata": {},
   "outputs": [],
   "source": [
    "#单个处理txt文本\n",
    "with open('EIS_state_I_45C02.txt', 'r') as file:\n",
    "    lines = file.readlines()\n",
    "\n",
    "output_rows = []\n",
    "\n",
    "data_col4 = []  # 存储第四列数据\n",
    "data_col5 = []  # 存储第五列数据\n",
    "\n",
    "for line in lines[1:]:  # 跳过第一行\n",
    "    columns = line.split()\n",
    "    data_col4.extend([float(columns[3])])\n",
    "    data_col5.extend([float(columns[4])])\n",
    "\n",
    "    if len(data_col4) >= 60 and len(data_col5) >= 60:  # 当两列都有足够的数据时\n",
    "        row_data = data_col4[:60] + data_col5[:60]  # 合并数据\n",
    "        output_rows.append(row_data)  # 添加到输出行\n",
    "        data_col4 = data_col4[60:]  # 移除已使用的数据\n",
    "        data_col5 = data_col5[60:]\n",
    "\n",
    "with open('EIS_I_45C02.txt', 'w') as file:\n",
    "    for row in output_rows:\n",
    "        file.write('\\t'.join(map(str, row)) + '\\n')\n",
    "\n"
   ]
  },
  {
   "cell_type": "code",
   "execution_count": 13,
   "id": "1aa5ce8c",
   "metadata": {},
   "outputs": [],
   "source": [
    "k1=190\n",
    "k2=180\n",
    "k3=201\n",
    "k4=34\n",
    "k5=193\n",
    "k6=156\n",
    "k7=93\n",
    "k8=36\n",
    "k9=294\n",
    "k10=317\n",
    "k11=298\n",
    "k12=309"
   ]
  },
  {
   "cell_type": "code",
   "execution_count": 21,
   "id": "5ef85392",
   "metadata": {},
   "outputs": [],
   "source": [
    "#对eis txt文本做删减。选择k，选择文件路径\n",
    "k1=190\n",
    "k2=180\n",
    "k3=201\n",
    "k4=34\n",
    "k5=193\n",
    "k6=156\n",
    "k7=93\n",
    "k8=36\n",
    "k9=294\n",
    "k10=317\n",
    "k11=298\n",
    "k12=309\n",
    "def trim_file(input_file, output_file, k):\n",
    "    with open(input_file, 'r') as file:\n",
    "        lines = file.readlines()\n",
    "\n",
    "    with open(output_file, 'w') as file:\n",
    "        file.writelines(lines[:k])\n",
    "\n",
    "# 示例使用\n",
    "input_file = 'C:/Users/10193/SHAP-tutorial/SOH1/EISstateIX/processed_EIS_state_IX_45C01.txt'  # 替换为您的文件路径\n",
    "k = k11  # 假设我们要保留前 10 行\n",
    "output_file = input_file.replace('.txt', '') + '_del.txt'  # 新文件名为 'example_del.txt'\n",
    "\n",
    "trim_file(input_file, output_file, k)"
   ]
  },
  {
   "cell_type": "code",
   "execution_count": null,
   "id": "7b592c6e",
   "metadata": {},
   "outputs": [],
   "source": [
    "processed_EIS_state_I_25C01_del.txt\n",
    "processed_EIS_state_I_25C02_del.txt\n",
    "processed_EIS_state_I_25C03_del.txt\n",
    "processed_EIS_state_I_25C04_del.txt\n",
    "processed_EIS_state_I_25C05_del.txt\n",
    "processed_EIS_state_I_25C06_del.txt\n",
    "processed_EIS_state_I_25C07_del.txt\n",
    "processed_EIS_state_I_25C08_del.txt\n",
    "processed_EIS_state_I_35C01_del.txt\n",
    "processed_EIS_state_I_35C02_del.txt\n",
    "processed_EIS_state_I_45C01_del.txt\n",
    "processed_EIS_state_I_45C02_del.txt"
   ]
  },
  {
   "cell_type": "code",
   "execution_count": null,
   "id": "d565fe21",
   "metadata": {},
   "outputs": [],
   "source": [
    "processed_EIS_state_IX_25C01_del.txt\n",
    "processed_EIS_state_IX_25C02_del.txt\n",
    "processed_EIS_state_IX_25C03_del.txt\n",
    "processed_EIS_state_IX_25C04_del.txt\n",
    "processed_EIS_state_IX_25C05_del.txt\n",
    "processed_EIS_state_IX_25C06_del.txt\n",
    "processed_EIS_state_IX_25C07_del.txt\n",
    "processed_EIS_state_IX_25C08_del.txt\n",
    "processed_EIS_state_IX_35C01_del.txt\n",
    "processed_EIS_state_IX_35C02_del.txt\n",
    "processed_EIS_state_IX_45C01_del.txt\n",
    "processed_EIS_state_IX_45C02_del.txt"
   ]
  },
  {
   "cell_type": "code",
   "execution_count": 23,
   "id": "18ab794a",
   "metadata": {},
   "outputs": [],
   "source": [
    "#合并EIS数据，将多个合并到一起。\n",
    "\n",
    "def merge_files(file_list, output_file):\n",
    "    with open(output_file, 'w') as outfile:\n",
    "        for fname in file_list:\n",
    "            with open(fname) as infile:\n",
    "                for line in infile:\n",
    "                    if line.strip():  # 这里检查是否为非空行\n",
    "                        outfile.write(line)\n",
    "# 文件列表\n",
    "file_list = [\n",
    "    'C:/Users/10193/SHAP-tutorial/SOH1/EISstateIX/processed_EIS_state_IX_25C01_del.txt',\n",
    "    'C:/Users/10193/SHAP-tutorial/SOH1/EISstateIX/processed_EIS_state_IX_25C02_del.txt',\n",
    "    'C:/Users/10193/SHAP-tutorial/SOH1/EISstateIX/processed_EIS_state_IX_25C03_del.txt',\n",
    "    'C:/Users/10193/SHAP-tutorial/SOH1/EISstateIX/processed_EIS_state_IX_25C04_del.txt',\n",
    "    'C:/Users/10193/SHAP-tutorial/SOH1/EISstateIX/processed_EIS_state_IX_25C05_del.txt',\n",
    "    'C:/Users/10193/SHAP-tutorial/SOH1/EISstateIX/processed_EIS_state_IX_25C06_del.txt',\n",
    "    'C:/Users/10193/SHAP-tutorial/SOH1/EISstateIX/processed_EIS_state_IX_25C07_del.txt',\n",
    "    'C:/Users/10193/SHAP-tutorial/SOH1/EISstateIX/processed_EIS_state_IX_25C08_del.txt',\n",
    "    'C:/Users/10193/SHAP-tutorial/SOH1/EISstateIX/processed_EIS_state_IX_35C01_del.txt',\n",
    "    'C:/Users/10193/SHAP-tutorial/SOH1/EISstateIX/processed_EIS_state_IX_35C02_del.txt',\n",
    "    'C:/Users/10193/SHAP-tutorial/SOH1/EISstateIX/processed_EIS_state_IX_45C01_del.txt',\n",
    "    'C:/Users/10193/SHAP-tutorial/SOH1/EISstateIX/processed_EIS_state_IX_45C02_del.txt'\n",
    "]\n",
    "\n",
    "output_file = 'EIS_IX_HEBING.txt'\n",
    "\n",
    "merge_files(file_list, output_file)\n",
    "\n"
   ]
  },
  {
   "cell_type": "code",
   "execution_count": null,
   "id": "b8c369ff",
   "metadata": {},
   "outputs": [],
   "source": []
  }
 ],
 "metadata": {
  "kernelspec": {
   "display_name": "pytorch-gpu",
   "language": "python",
   "name": "pytorch-gpu"
  },
  "language_info": {
   "codemirror_mode": {
    "name": "ipython",
    "version": 3
   },
   "file_extension": ".py",
   "mimetype": "text/x-python",
   "name": "python",
   "nbconvert_exporter": "python",
   "pygments_lexer": "ipython3",
   "version": "3.7.16"
  }
 },
 "nbformat": 4,
 "nbformat_minor": 5
}
