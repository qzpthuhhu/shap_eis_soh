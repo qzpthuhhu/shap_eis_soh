{
 "cells": [
  {
   "cell_type": "code",
   "execution_count": 12,
   "id": "10a8df59",
   "metadata": {},
   "outputs": [],
   "source": [
    "import pandas as pd\n",
    "\n",
    "# 读取CSV文件\n",
    "df = pd.read_csv('Data_Capacity_45C01.csv')\n",
    "\n",
    "# 提取第二列数据，去掉第一行的标题和第一列数据\n",
    "data = df.iloc[1:, 1]\n",
    "\n",
    "# 保存为新的txt文件\n",
    "data.to_csv('Data_Cap_deal_45C01.txt', header=False, index=False)\n",
    "\n",
    "# 如果需要将逗号分隔符更改为制表符分隔符，可以这样做\n",
    "# data.to_csv('your_output_file.txt', sep='\\t', header=False, index=False)\n"
   ]
  },
  {
   "cell_type": "code",
   "execution_count": null,
   "id": "861123e0",
   "metadata": {},
   "outputs": [],
   "source": [
    "C0 = data\n",
    "#25\n",
    "C1 = data.loc[0:189].copy()\n",
    "C2 = data.loc[190:369].copy()\n",
    "C3 = data.loc[370:570].copy()\n",
    "\n",
    "C4 = data.loc[571:604].copy() ##坏的,不可单独使用\n",
    "C5 = data.loc[605:797].copy()  ##24678d坏的\n",
    "\n",
    "C6 = data.loc[798:953].copy()\n",
    "C7 = data.loc[954:1046].copy()\n",
    "\n",
    "C8 = data.loc[1047:1082].copy() ##坏的\n",
    "#35\n",
    "C9 = data.loc[1083:1376].copy()\n",
    "C10 = data.loc[1377:1693].copy()\n",
    "#45\n",
    "C11 = data.loc[1694:1991].copy()\n",
    "C12 = data.loc[1992:2300].copy()\n",
    "\n",
    "C13 = data.loc[0:2300].copy() #C1-C5\n",
    "C14 = data.loc[910:1121].copy()  #C6C7"
   ]
  },
  {
   "cell_type": "code",
   "execution_count": 1,
   "id": "28caeb0d",
   "metadata": {},
   "outputs": [],
   "source": [
    "import os\n",
    "import pandas as pd\n",
    "\n",
    "def process_csv_file(input_file, output_file):\n",
    "    # 读取CSV文件\n",
    "    df = pd.read_csv(input_file)\n",
    "\n",
    "    # 提取第二列数据，去掉第一行的标题和第一列数据\n",
    "    data = df.iloc[1:, 1]\n",
    "\n",
    "    # 保存为新的txt文件\n",
    "    data.to_csv(output_file, header=False, index=False)\n",
    "\n",
    "folder_path = 'CAPDATA'  # 文件夹路径\n",
    "for filename in os.listdir(folder_path):\n",
    "    if filename.endswith('.csv'):  # 确保处理CSV文件\n",
    "        input_file = os.path.join(folder_path, filename)\n",
    "        # 构建输出文件名，替换扩展名为 .txt\n",
    "        output_file = os.path.join(folder_path, filename.replace('.csv', '_deal.txt'))\n",
    "        process_csv_file(input_file, output_file)\n"
   ]
  },
  {
   "cell_type": "code",
   "execution_count": null,
   "id": "b4d12225",
   "metadata": {},
   "outputs": [],
   "source": []
  }
 ],
 "metadata": {
  "kernelspec": {
   "display_name": "pytorch-gpu",
   "language": "python",
   "name": "pytorch-gpu"
  },
  "language_info": {
   "codemirror_mode": {
    "name": "ipython",
    "version": 3
   },
   "file_extension": ".py",
   "mimetype": "text/x-python",
   "name": "python",
   "nbconvert_exporter": "python",
   "pygments_lexer": "ipython3",
   "version": "3.7.16"
  }
 },
 "nbformat": 4,
 "nbformat_minor": 5
}
