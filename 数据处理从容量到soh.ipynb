{
 "cells": [
  {
   "cell_type": "code",
   "execution_count": 2,
   "id": "26f62fe6",
   "metadata": {},
   "outputs": [
    {
     "name": "stdout",
     "output_type": "stream",
     "text": [
      "处理完成并已保存到 NEWSOH_all_35.txt\n"
     ]
    }
   ],
   "source": [
    "# 读取原始数据\n",
    "with open(\"../SOH1/CAPDATA/Data_Cap.txt\", \"r\") as file:\n",
    "    lines = file.readlines()\n",
    "\n",
    "\n",
    "\n",
    "# 处理数据，将每个数字除以最大值\n",
    "processed_data = []\n",
    "\n",
    "for line in lines:\n",
    "    value = float(line.strip())\n",
    "    processed_data.append((value / 40)*100)\n",
    "\n",
    "# 写入处理后的数据到新文件\n",
    "with open(\"NEWSOH_all_40.txt\", \"w\") as file:\n",
    "    for value in processed_data:\n",
    "        file.write(f\"{value}\\n\")\n",
    "\n",
    "print(\"处理完成并已保存到 NEWSOH_all_35.txt\")\n"
   ]
  },
  {
   "cell_type": "code",
   "execution_count": 1,
   "id": "348f84cb",
   "metadata": {},
   "outputs": [
    {
     "name": "stdout",
     "output_type": "stream",
     "text": [
      "处理完成\n"
     ]
    }
   ],
   "source": [
    "# 读取原始数据\n",
    "with open(\"../SOH1/CAPDATA/Cap_HEBING.txt\", \"r\") as file:\n",
    "    lines = file.readlines()\n",
    "\n",
    "\n",
    "\n",
    "# 处理数据，将每个数字除以最大值\n",
    "processed_data = []\n",
    "\n",
    "for line in lines:\n",
    "    value = float(line.strip())\n",
    "    processed_data.append((value / 40)*100)\n",
    "\n",
    "# 写入处理后的数据到新文件\n",
    "with open(\"SOH_all_40_temp.txt\", \"w\") as file:\n",
    "    for value in processed_data:\n",
    "        file.write(f\"{value}\\n\")\n",
    "\n",
    "print(\"处理完成\")"
   ]
  },
  {
   "cell_type": "markdown",
   "id": "f2be5749",
   "metadata": {},
   "source": [
    "除以第一个数字"
   ]
  },
  {
   "cell_type": "code",
   "execution_count": null,
   "id": "527f5330",
   "metadata": {},
   "outputs": [],
   "source": [
    "# 读取原始数据\n",
    "with open(\"../SOH1/Capacity_data.txt\", \"r\") as file:\n",
    "    lines = file.readlines()\n",
    "\n",
    "# 处理数据，将每个数字除以第一个数字\n",
    "processed_data = []\n",
    "first_value = None\n",
    "\n",
    "for line in lines:\n",
    "    value = float(line.strip())\n",
    "    if first_value is None:\n",
    "        first_value = value\n",
    "    processed_data.append(value / first_value)\n",
    "\n",
    "# 写入处理后的数据到新文件\n",
    "with open(\"SOH_ALL.txt\", \"w\") as file:\n",
    "    for value in processed_data:\n",
    "        file.write(f\"{value}\\n\")\n",
    "\n",
    "print(\"处理完成并已保存到 SOH_ALL.txt\")\n"
   ]
  },
  {
   "cell_type": "code",
   "execution_count": null,
   "id": "db8d94ec",
   "metadata": {},
   "outputs": [],
   "source": [
    "from decimal import Decimal\n",
    "\n",
    "# 读取原始数据\n",
    "with open(\"../data/Capacity_data_35.txt\", \"r\") as file:\n",
    "    lines = file.readlines()\n",
    "\n",
    "# 处理数据，将每个数字除以第一个数字\n",
    "processed_data = []\n",
    "first_value = None\n",
    "\n",
    "for line in lines:\n",
    "    value = Decimal(line.strip())\n",
    "    if first_value is None:\n",
    "        first_value = value\n",
    "    processed_data.append(str(value / first_value))\n",
    "\n",
    "# 写入处理后的数据到新文件\n",
    "with open(\"output.txt\", \"w\") as file:\n",
    "    for value in processed_data:\n",
    "        file.write(f\"{value}\\n\")\n",
    "\n",
    "print(\"处理完成并已保存到 output.txt\")\n"
   ]
  },
  {
   "cell_type": "code",
   "execution_count": null,
   "id": "e7b7cee3",
   "metadata": {},
   "outputs": [],
   "source": [
    "# Define the indices of the rows you want to select\n",
    "waqu6 = list(range(0, 910)) + list(range(1122, 2548))\n",
    "\n",
    "# Use iloc to select the rows\n",
    "C6qu = data.iloc[waqu6].copy()\n",
    "Y6qu = y_series.iloc[waqu6].copy()\n",
    "\n",
    "X_test = C6\n",
    "y_test = Y6"
   ]
  },
  {
   "cell_type": "code",
   "execution_count": null,
   "id": "2886a217",
   "metadata": {},
   "outputs": [],
   "source": [
    "C6qu_TOP10 = C6qu.iloc[:, meantop]\n",
    "# print(X_top10_test)\n",
    "X_test_TOP10 = X_test.iloc[:, meantop]\n",
    "\n",
    "model_select = xgb.XGBRegressor(objective=\"reg:squarederror\")\n",
    "# model.fit(X, y)\n",
    "model_select.fit(C6qu_TOP10, Y6qu)\n",
    "\n",
    "# get predictions\n",
    "# y_pred = model.predict(X)\n",
    "y_pred_select = model_select.predict(X_test_TOP10)\n",
    "# model evaluation\n",
    "plt.figure(figsize=(5, 5))\n",
    "\n",
    "plt.scatter(y_test, y_pred_select)\n",
    "plt.plot([60, 100], [60, 100], color=\"r\", linestyle=\"-\", linewidth=1)\n",
    "\n",
    "plt.ylabel(\"Predicted\", size=20)\n",
    "plt.xlabel(\"Actual\", size=20)\n",
    "plt.show()\n",
    "plt.close()"
   ]
  }
 ],
 "metadata": {
  "kernelspec": {
   "display_name": "pytorch-gpu",
   "language": "python",
   "name": "pytorch-gpu"
  },
  "language_info": {
   "codemirror_mode": {
    "name": "ipython",
    "version": 3
   },
   "file_extension": ".py",
   "mimetype": "text/x-python",
   "name": "python",
   "nbconvert_exporter": "python",
   "pygments_lexer": "ipython3",
   "version": "3.7.16"
  }
 },
 "nbformat": 4,
 "nbformat_minor": 5
}
